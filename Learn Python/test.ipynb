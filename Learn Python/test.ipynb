{
 "cells": [
  {
   "cell_type": "code",
   "execution_count": null,
   "id": "7c34236c",
   "metadata": {},
   "outputs": [
    {
     "name": "stdout",
     "output_type": "stream",
     "text": [
      "1 x 1 = 1\n",
      "1 x 2 = 2\n",
      "1 x 3 = 3\n",
      "1 x 4 = 4\n",
      "1 x 5 = 5\n",
      "---\n",
      "2 x 1 = 2\n",
      "2 x 2 = 4\n",
      "2 x 3 = 6\n",
      "2 x 4 = 8\n",
      "2 x 5 = 10\n",
      "---\n",
      "3 x 1 = 3\n",
      "3 x 2 = 6\n",
      "3 x 3 = 9\n",
      "3 x 4 = 12\n",
      "3 x 5 = 15\n",
      "---\n"
     ]
    }
   ],
   "source": [
    "for i in range(1, 4):       # Table number\n",
    "    for j in range(1, 6):   # Multiply by 1 to 5\n",
    "        print(f\"{i} x {j} = {i*j}\")\n",
    "    print(\"---\")  # Separate each table\n"
   ]
  },
  {
   "cell_type": "code",
   "execution_count": null,
   "id": "05771004",
   "metadata": {},
   "outputs": [
    {
     "name": "stdout",
     "output_type": "stream",
     "text": [
      "Class 1\n",
      "  Student 1\n",
      "  Student 2\n",
      "Class 2\n",
      "  Student 1\n",
      "  Student 2\n"
     ]
    }
   ],
   "source": [
    "# Outer loop → Classes\n",
    "for class_num in range(1, 3):  # 1 to 2\n",
    "    print(\"Class\", class_num)\n",
    "\n",
    "    # Inner loop → Students\n",
    "    for student_num in range(1, 3):  # 1 to 2\n",
    "        print(\"  Student\", student_num)\n"
   ]
  },
  {
   "cell_type": "code",
   "execution_count": null,
   "id": "119ddc30",
   "metadata": {},
   "outputs": [
    {
     "name": "stdout",
     "output_type": "stream",
     "text": [
      "Class 1\n",
      "  Student 1\n",
      "  Student 2\n",
      "Class 2\n",
      "  Student 1\n",
      "  Student 2\n"
     ]
    }
   ],
   "source": [
    "\n",
    "# Outer loop → Classes\n",
    "for class_num in range(1, 3):  # 1 to 2\n",
    "    print(\"Class\", class_num)\n",
    "    # Inner loop → Students\n",
    "    for student_num in range(1, 3):  # 1 to 2\n",
    "     print(\"  Student\", student_num)\n",
    "\n",
    "\n"
   ]
  },
  {
   "cell_type": "code",
   "execution_count": null,
   "id": "5e664b9a",
   "metadata": {},
   "outputs": [],
   "source": [
    "def myname(myname):\n",
    "    myname = myname\n",
    "\n",
    "myname(\"Saeed\")"
   ]
  }
 ],
 "metadata": {
  "kernelspec": {
   "display_name": "Python 3",
   "language": "python",
   "name": "python3"
  },
  "language_info": {
   "codemirror_mode": {
    "name": "ipython",
    "version": 3
   },
   "file_extension": ".py",
   "mimetype": "text/x-python",
   "name": "python",
   "nbconvert_exporter": "python",
   "pygments_lexer": "ipython3",
   "version": "3.13.7"
  }
 },
 "nbformat": 4,
 "nbformat_minor": 5
}
