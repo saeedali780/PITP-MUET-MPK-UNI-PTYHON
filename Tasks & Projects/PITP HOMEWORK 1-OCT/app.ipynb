{
 "cells": [
  {
   "cell_type": "markdown",
   "id": "47f9cc07",
   "metadata": {},
   "source": [
    "# The University Of Mirpurkhas \n"
   ]
  },
  {
   "cell_type": "markdown",
   "id": "d018e816",
   "metadata": {},
   "source": [
    "PITP Class Work (01-10-2025)"
   ]
  },
  {
   "cell_type": "markdown",
   "id": "ab7f0c94",
   "metadata": {},
   "source": [
    "# 1. Importing Modules"
   ]
  },
  {
   "cell_type": "markdown",
   "id": "49b1a5ae",
   "metadata": {},
   "source": [
    "Q 1: Import the math module and calculate square root of a number. "
   ]
  },
  {
   "cell_type": "code",
   "execution_count": 1,
   "id": "4ccf2e97",
   "metadata": {},
   "outputs": [
    {
     "name": "stdout",
     "output_type": "stream",
     "text": [
      "Square root of 16 is: 4.0\n"
     ]
    }
   ],
   "source": [
    "# Program to import math module and use sqrt() \n",
    "import math \n",
    "num = 16 \n",
    "print(\"Square root of\", num, \"is:\", math.sqrt(num)) "
   ]
  },
  {
   "cell_type": "markdown",
   "id": "1089ef3c",
   "metadata": {},
   "source": [
    "Q 2: Import only a specific function from a module."
   ]
  },
  {
   "cell_type": "code",
   "execution_count": 2,
   "id": "064de676",
   "metadata": {},
   "outputs": [
    {
     "name": "stdout",
     "output_type": "stream",
     "text": [
      "Factorial of 5 is: 120\n"
     ]
    }
   ],
   "source": [
    "# Program to import only factorial function from math \n",
    "from math import factorial \n",
    "print(\"Factorial of 5 is:\", factorial(5)) "
   ]
  },
  {
   "cell_type": "markdown",
   "id": "7ba109c4",
   "metadata": {},
   "source": [
    "Q 3: Use the random module to generate a random number."
   ]
  },
  {
   "cell_type": "code",
   "execution_count": null,
   "id": "9b29f3a5",
   "metadata": {},
   "outputs": [
    {
     "name": "stdout",
     "output_type": "stream",
     "text": [
      "Random number is: 7\n"
     ]
    }
   ],
   "source": [
    "# Program to generate random number between 1 and 10 \n",
    "import random \n",
    "num = random.randint(1, 10) \n",
    "print(\"Random number is:\", num)"
   ]
  },
  {
   "cell_type": "markdown",
   "id": "8b90733b",
   "metadata": {},
   "source": [
    "# 2. Creating Custom Modules"
   ]
  },
  {
   "cell_type": "markdown",
   "id": "e629cc4a",
   "metadata": {},
   "source": [
    "# Steps: \n",
    "1. Create a new file called mymodule.py\n",
    "2. Add some functions inside it. \n",
    "3. Import it into another file. "
   ]
  },
  {
   "cell_type": "code",
   "execution_count": 4,
   "id": "ce2abcb7",
   "metadata": {},
   "outputs": [
    {
     "name": "stdout",
     "output_type": "stream",
     "text": [
      "Hello, Ali!\n",
      "Sum is: 30\n"
     ]
    }
   ],
   "source": [
    "# Program to use custom module \n",
    "import mymodule \n",
    "print(mymodule.greet(\"Ali\")) \n",
    "print(\"Sum is:\", mymodule.add(10, 20))"
   ]
  },
  {
   "cell_type": "markdown",
   "id": "30c34bf8",
   "metadata": {},
   "source": [
    "# 3. Understanding Python Package Structure \n"
   ]
  },
  {
   "cell_type": "markdown",
   "id": "f72b53c4",
   "metadata": {},
   "source": [
    "# Steps: \n",
    "1. Create a folder called mypackage. \n",
    "2. Inside it, create a file __init__.py (can be empty or used for initialization). \n",
    "3. Add another file, e.g., mathutils.py."
   ]
  },
  {
   "cell_type": "code",
   "execution_count": 5,
   "id": "1654dc21",
   "metadata": {},
   "outputs": [
    {
     "name": "stdout",
     "output_type": "stream",
     "text": [
      "Square of 4: 16\n",
      "Cube of 3: 27\n"
     ]
    }
   ],
   "source": [
    "# Program to use custom package \n",
    "from mypackage import mathutils \n",
    "print(\"Square of 4:\", mathutils.square(4)) \n",
    "print(\"Cube of 3:\", mathutils.cube(3))"
   ]
  }
 ],
 "metadata": {
  "kernelspec": {
   "display_name": "Python 3",
   "language": "python",
   "name": "python3"
  },
  "language_info": {
   "codemirror_mode": {
    "name": "ipython",
    "version": 3
   },
   "file_extension": ".py",
   "mimetype": "text/x-python",
   "name": "python",
   "nbconvert_exporter": "python",
   "pygments_lexer": "ipython3",
   "version": "3.13.7"
  }
 },
 "nbformat": 4,
 "nbformat_minor": 5
}
