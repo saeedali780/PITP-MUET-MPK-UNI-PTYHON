{
 "cells": [
  {
   "cell_type": "markdown",
   "id": "6e57fc61",
   "metadata": {},
   "source": [
    "# Question 1: Build a Simple Calculator"
   ]
  },
  {
   "cell_type": "markdown",
   "id": "4b8c6104",
   "metadata": {},
   "source": [
    "Task: Write a Python program to build a Simple Calculator using basic Python concepts such \n",
    "as variables, user input, functions, and conditional statements."
   ]
  },
  {
   "cell_type": "markdown",
   "id": "24faa8ef",
   "metadata": {},
   "source": [
    "Requirements: \n",
    "• Display a menu with four operations: \n",
    "1. Addition \n",
    "2. Subtraction \n",
    "3. Multiplication\n",
    "4. Division "
   ]
  },
  {
   "cell_type": "code",
   "execution_count": 3,
   "id": "d1620ff7",
   "metadata": {},
   "outputs": [
    {
     "name": "stdout",
     "output_type": "stream",
     "text": [
      "Error: Division by zero is not allowed.\n"
     ]
    }
   ],
   "source": [
    "num1 = int(input(\"Enter the first number: \"))\n",
    "num2 = int(input(\"Enter the second number: \"))\n",
    "otp = input(\"Enter the operation (+, -, *, /): \")\n",
    "\n",
    "if otp == '+':\n",
    "    result = num1 + num2\n",
    "    print(f\"The sum is: {result}\")\n",
    "elif otp == '-':\n",
    "    result = num1 - num2\n",
    "    print(f\"The difference is: {result}\")\n",
    "elif otp == '*':\n",
    "    result = num1 * num2\n",
    "    print(f\"The product is: {result}\")\n",
    "elif otp == '/':\n",
    "    if num2 != 0:\n",
    "        result = num1 / num2\n",
    "        print(f\"The quotient is: {result}\")\n",
    "    else:\n",
    "        print(\"Error: Division by zero is not allowed.\")"
   ]
  }
 ],
 "metadata": {
  "kernelspec": {
   "display_name": "Python 3",
   "language": "python",
   "name": "python3"
  },
  "language_info": {
   "codemirror_mode": {
    "name": "ipython",
    "version": 3
   },
   "file_extension": ".py",
   "mimetype": "text/x-python",
   "name": "python",
   "nbconvert_exporter": "python",
   "pygments_lexer": "ipython3",
   "version": "3.13.7"
  }
 },
 "nbformat": 4,
 "nbformat_minor": 5
}
