{
 "cells": [
  {
   "cell_type": "markdown",
   "id": "a068299b",
   "metadata": {},
   "source": [
    "# Question 2: Build a Number Guessing Game"
   ]
  },
  {
   "cell_type": "markdown",
   "id": "eeeb8c65",
   "metadata": {},
   "source": [
    "Task: Write a Python program to create a Simple Number Guessing Game using the random \n",
    "module and conditional statements. "
   ]
  },
  {
   "cell_type": "markdown",
   "id": "73e3c20d",
   "metadata": {},
   "source": [
    "Requirements: \n",
    "• The computer should randomly pick a number between 1 and 20. \n",
    "• The user must guess the number. \n",
    "• If the guess is too high, display \"Too high! Try again.\" \n",
    "• If the guess is too low, display \"Too low! Try again.\" \n",
    "• When the user guesses correctly, display a congratulatory message and the total \n",
    "number of attempts."
   ]
  },
  {
   "cell_type": "code",
   "execution_count": 4,
   "id": "b5df63e4",
   "metadata": {},
   "outputs": [
    {
     "name": "stdout",
     "output_type": "stream",
     "text": [
      "Sorry Guess again Too low.\n",
      "Sorry Guess again Too low.\n",
      "Sorry Guess again Too low.\n",
      "Sorry Guess again Too low.\n",
      "Sorry Guess again Too low.\n",
      "Sorry Guess again Too high.\n",
      "Yay congrats. You have Guessed the number 12 correctly\n"
     ]
    }
   ],
   "source": [
    "import random\n",
    "\n",
    "def guess(x):\n",
    "    random_number = random.randint(1,x)\n",
    "    guess = 0\n",
    "    while guess != random_number:\n",
    "        guess =  int (input(f\"Guess a number between 1 and {x}: \"))\n",
    "        if guess < random_number:\n",
    "            print(f\"Sorry Guess again Too low.\")\n",
    "        elif guess > random_number: \n",
    "             print(f\"Sorry Guess again Too high.\")\n",
    "             \n",
    "    print(f\"Yay congrats. You have Guessed the number {random_number} correctly\")         \n",
    "guess(20)"
   ]
  }
 ],
 "metadata": {
  "kernelspec": {
   "display_name": "Python 3",
   "language": "python",
   "name": "python3"
  },
  "language_info": {
   "codemirror_mode": {
    "name": "ipython",
    "version": 3
   },
   "file_extension": ".py",
   "mimetype": "text/x-python",
   "name": "python",
   "nbconvert_exporter": "python",
   "pygments_lexer": "ipython3",
   "version": "3.13.7"
  }
 },
 "nbformat": 4,
 "nbformat_minor": 5
}
