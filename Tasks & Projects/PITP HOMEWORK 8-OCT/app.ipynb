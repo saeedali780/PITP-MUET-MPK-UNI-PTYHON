{
 "cells": [
  {
   "cell_type": "markdown",
   "id": "208913d6",
   "metadata": {},
   "source": [
    "# The University Of Mirpurkhas"
   ]
  },
  {
   "cell_type": "markdown",
   "id": "d063ed1e",
   "metadata": {},
   "source": [
    "PITP Class Work (08-10-2025)"
   ]
  },
  {
   "cell_type": "markdown",
   "id": "ddc81818",
   "metadata": {},
   "source": [
    "# 1. Key-Value Pairs (Dictionaries Basics)"
   ]
  },
  {
   "cell_type": "markdown",
   "id": "3780c6de",
   "metadata": {},
   "source": [
    "Q 1: Create and print a dictionary"
   ]
  },
  {
   "cell_type": "code",
   "execution_count": 1,
   "id": "1b877465",
   "metadata": {},
   "outputs": [
    {
     "name": "stdout",
     "output_type": "stream",
     "text": [
      "Student information: {'name': 'Ali', 'age': 20, 'grade': 'A'}\n"
     ]
    }
   ],
   "source": [
    "# Program to create and display a dictionary \n",
    "# A dictionary stores data in key-value pairs \n",
    "# Example: {\"key\": \"value\"} \n",
    "student = {\"name\": \"Ali\", \"age\": 20, \"grade\": \"A\"} \n",
    "print(\"Student information:\", student) "
   ]
  },
  {
   "cell_type": "markdown",
   "id": "5cd155f3",
   "metadata": {},
   "source": [
    "Q 2: Access values using keys"
   ]
  },
  {
   "cell_type": "code",
   "execution_count": 2,
   "id": "cb964a4e",
   "metadata": {},
   "outputs": [
    {
     "name": "stdout",
     "output_type": "stream",
     "text": [
      "Name: Ali\n",
      "Age: 20\n",
      "Grade: A\n"
     ]
    }
   ],
   "source": [
    "# Program to access dictionary values \n",
    "student = {\"name\": \"Ali\", \"age\": 20, \"grade\": \"A\"} \n",
    "print(\"Name:\", student[\"name\"]) \n",
    "print(\"Age:\", student[\"age\"]) \n",
    "print(\"Grade:\", student[\"grade\"]) "
   ]
  },
  {
   "cell_type": "markdown",
   "id": "e43d9f25",
   "metadata": {},
   "source": [
    "Q 3: Add, update, and delete keys"
   ]
  },
  {
   "cell_type": "code",
   "execution_count": 3,
   "id": "b689d019",
   "metadata": {},
   "outputs": [
    {
     "name": "stdout",
     "output_type": "stream",
     "text": [
      "Updated student record: {'age': 21, 'grade': 'A'}\n"
     ]
    }
   ],
   "source": [
    "# Program to add, update, and delete dictionary items \n",
    "student = {\"name\": \"Ali\", \"age\": 20} \n",
    "student[\"grade\"] = \"A\"        \n",
    "student[\"age\"] = 21           \n",
    "del student[\"name\"]           \n",
    "# add key \n",
    "# update value \n",
    "# delete key \n",
    "print(\"Updated student record:\", student)"
   ]
  },
  {
   "cell_type": "markdown",
   "id": "a59f37ce",
   "metadata": {},
   "source": [
    "# 2. Dictionary Methods"
   ]
  },
  {
   "cell_type": "markdown",
   "id": "78175051",
   "metadata": {},
   "source": [
    "Q 1: Use keys(), values(), and items()"
   ]
  },
  {
   "cell_type": "code",
   "execution_count": 4,
   "id": "a8f4f644",
   "metadata": {},
   "outputs": [
    {
     "name": "stdout",
     "output_type": "stream",
     "text": [
      "Keys: dict_keys(['name', 'city', 'age'])\n",
      "Values: dict_values(['Sara', 'Lahore', 25])\n",
      "Items: dict_items([('name', 'Sara'), ('city', 'Lahore'), ('age', 25)])\n"
     ]
    }
   ],
   "source": [
    "# Program to use dictionary methods \n",
    "person = {\"name\": \"Sara\", \"city\": \"Lahore\", \"age\": 25} \n",
    "print(\"Keys:\", person.keys()) \n",
    "print(\"Values:\", person.values()) \n",
    "print(\"Items:\", person.items()) "
   ]
  },
  {
   "cell_type": "markdown",
   "id": "ae0fc97a",
   "metadata": {},
   "source": [
    "Q 2: Use get() and pop()"
   ]
  },
  {
   "cell_type": "code",
   "execution_count": 5,
   "id": "8009b995",
   "metadata": {},
   "outputs": [
    {
     "name": "stdout",
     "output_type": "stream",
     "text": [
      "Grade: B\n",
      "After removing 'age': {'name': 'Ali', 'grade': 'B'}\n"
     ]
    }
   ],
   "source": [
    "# Program using get() and pop() methods \n",
    "student = {\"name\": \"Ali\", \"age\": 20, \"grade\": \"B\"} \n",
    "print(\"Grade:\", student.get(\"grade\")) \n",
    "student.pop(\"age\") \n",
    "print(\"After removing 'age':\", student) "
   ]
  },
  {
   "cell_type": "markdown",
   "id": "ace2a713",
   "metadata": {},
   "source": [
    "Q 3: Copy and clear a dictionary "
   ]
  },
  {
   "cell_type": "code",
   "execution_count": 6,
   "id": "6c9f1a80",
   "metadata": {},
   "outputs": [
    {
     "name": "stdout",
     "output_type": "stream",
     "text": [
      "Copied dictionary: {'brand': 'Toyota', 'model': 'Corolla'}\n",
      "Original dictionary after clear: {}\n"
     ]
    }
   ],
   "source": [
    "# Program to copy and clear dictionary \n",
    "car = {\"brand\": \"Toyota\", \"model\": \"Corolla\"} \n",
    "new_car = car.copy()     \n",
    "# duplicate \n",
    "print(\"Copied dictionary:\", new_car) \n",
    "car.clear()              \n",
    "# remove all items \n",
    "print(\"Original dictionary after clear:\", car) \n"
   ]
  },
  {
   "cell_type": "markdown",
   "id": "c25f3c62",
   "metadata": {},
   "source": [
    "# 3. Set Operations"
   ]
  },
  {
   "cell_type": "markdown",
   "id": "afbc79d6",
   "metadata": {},
   "source": [
    "Q 1: Create a set and remove duplicates"
   ]
  },
  {
   "cell_type": "code",
   "execution_count": 7,
   "id": "14a4cd48",
   "metadata": {},
   "outputs": [
    {
     "name": "stdout",
     "output_type": "stream",
     "text": [
      "Unique numbers in set: {1, 2, 3, 4, 5}\n"
     ]
    }
   ],
   "source": [
    "# Program to show that sets remove duplicates automatically \n",
    "numbers = {1, 2, 3, 3, 4, 5, 5} \n",
    "print(\"Unique numbers in set:\", numbers) "
   ]
  },
  {
   "cell_type": "markdown",
   "id": "dd7c9559",
   "metadata": {},
   "source": [
    "Q 2: Perform union and intersection "
   ]
  },
  {
   "cell_type": "code",
   "execution_count": 8,
   "id": "d095afca",
   "metadata": {},
   "outputs": [
    {
     "name": "stdout",
     "output_type": "stream",
     "text": [
      "Union: {1, 2, 3, 4, 5, 6}\n",
      "Intersection: {3, 4}\n"
     ]
    }
   ],
   "source": [
    "# Program for union and intersection of sets \n",
    "A = {1, 2, 3, 4} \n",
    "B = {3, 4, 5, 6} \n",
    "print(\"Union:\", A.union(B)) \n",
    "print(\"Intersection:\", A.intersection(B))"
   ]
  },
  {
   "cell_type": "markdown",
   "id": "32536d72",
   "metadata": {},
   "source": [
    "Q 3: Difference and symmetric difference"
   ]
  },
  {
   "cell_type": "code",
   "execution_count": 9,
   "id": "f6c5fd07",
   "metadata": {},
   "outputs": [
    {
     "name": "stdout",
     "output_type": "stream",
     "text": [
      "Difference (A - B): {1, 2}\n",
      "Symmetric Difference: {1, 2, 5, 6}\n"
     ]
    }
   ],
   "source": [
    "# Program to demonstrate difference and symmetric difference \n",
    "A = {1, 2, 3, 4} \n",
    "B = {3, 4, 5, 6} \n",
    "print(\"Difference (A - B):\", A - B) \n",
    "print(\"Symmetric Difference:\", A.symmetric_difference(B))"
   ]
  },
  {
   "cell_type": "markdown",
   "id": "caeec47b",
   "metadata": {},
   "source": [
    "# 4. Use Cases for Each Data Structure"
   ]
  },
  {
   "cell_type": "markdown",
   "id": "7b47edc6",
   "metadata": {},
   "source": [
    "Q 1: Using list for storing student marks"
   ]
  },
  {
   "cell_type": "code",
   "execution_count": 10,
   "id": "0beefdee",
   "metadata": {},
   "outputs": [
    {
     "name": "stdout",
     "output_type": "stream",
     "text": [
      "Average marks: 86.25\n"
     ]
    }
   ],
   "source": [
    "# Program using list \n",
    "marks = [85, 90, 78, 92] \n",
    "average = sum(marks) / len(marks) \n",
    "print(\"Average marks:\", average) "
   ]
  },
  {
   "cell_type": "markdown",
   "id": "4dfba402",
   "metadata": {},
   "source": [
    "Q 2: Using dictionary for storing student data"
   ]
  },
  {
   "cell_type": "code",
   "execution_count": 11,
   "id": "01aaccc9",
   "metadata": {},
   "outputs": [
    {
     "name": "stdout",
     "output_type": "stream",
     "text": [
      "Student info: {'name': 'Ali', 'age': 20, 'marks': 88}\n",
      "Student name: Ali\n"
     ]
    }
   ],
   "source": [
    "# Program using dictionary \n",
    "student = {\"name\": \"Ali\", \"age\": 20, \"marks\": 88} \n",
    "print(\"Student info:\", student) \n",
    "print(\"Student name:\", student[\"name\"]) "
   ]
  },
  {
   "cell_type": "markdown",
   "id": "0ba37638",
   "metadata": {},
   "source": [
    "Q 3: Using set to store unique subjects "
   ]
  },
  {
   "cell_type": "code",
   "execution_count": 12,
   "id": "ce21157f",
   "metadata": {},
   "outputs": [
    {
     "name": "stdout",
     "output_type": "stream",
     "text": [
      "Unique subjects: {'Science', 'Math', 'English'}\n"
     ]
    }
   ],
   "source": [
    "# Program using set to remove duplicate values \n",
    "subjects = {\"Math\", \"English\", \"Science\", \"Math\", \"Science\"} \n",
    "print(\"Unique subjects:\", subjects) "
   ]
  }
 ],
 "metadata": {
  "kernelspec": {
   "display_name": "Python 3",
   "language": "python",
   "name": "python3"
  },
  "language_info": {
   "codemirror_mode": {
    "name": "ipython",
    "version": 3
   },
   "file_extension": ".py",
   "mimetype": "text/x-python",
   "name": "python",
   "nbconvert_exporter": "python",
   "pygments_lexer": "ipython3",
   "version": "3.13.7"
  }
 },
 "nbformat": 4,
 "nbformat_minor": 5
}
