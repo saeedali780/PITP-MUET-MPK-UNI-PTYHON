{
 "cells": [
  {
   "cell_type": "markdown",
   "id": "0b982ea6",
   "metadata": {},
   "source": [
    "# The University Of Mirpurkhas"
   ]
  },
  {
   "cell_type": "markdown",
   "id": "382200fa",
   "metadata": {},
   "source": [
    "PITP Class Work (06-10-2025)"
   ]
  },
  {
   "cell_type": "markdown",
   "id": "c606780e",
   "metadata": {},
   "source": [
    "# 1. List Operations"
   ]
  },
  {
   "cell_type": "markdown",
   "id": "44b06010",
   "metadata": {},
   "source": [
    "Q 1: Create and print a list"
   ]
  },
  {
   "cell_type": "code",
   "execution_count": 1,
   "id": "28784387",
   "metadata": {},
   "outputs": [
    {
     "name": "stdout",
     "output_type": "stream",
     "text": [
      "List of fruits: ['apple', 'banana', 'cherry']\n"
     ]
    }
   ],
   "source": [
    "# Program to create and display a list \n",
    "fruits = [\"apple\", \"banana\", \"cherry\"] \n",
    "print(\"List of fruits:\", fruits) "
   ]
  },
  {
   "cell_type": "markdown",
   "id": "a67d539e",
   "metadata": {},
   "source": [
    "Q 2: Add and remove elements from a list"
   ]
  },
  {
   "cell_type": "code",
   "execution_count": 2,
   "id": "88ebb0b6",
   "metadata": {},
   "outputs": [
    {
     "name": "stdout",
     "output_type": "stream",
     "text": [
      "Updated list: ['apple', 'cherry', 'orange']\n"
     ]
    }
   ],
   "source": [
    "# Program to demonstrate list operations \n",
    "fruits = [\"apple\", \"banana\", \"cherry\"] \n",
    "fruits.append(\"orange\")        \n",
    "fruits.remove(\"banana\")        \n",
    "print(\"Updated list:\", fruits) "
   ]
  },
  {
   "cell_type": "markdown",
   "id": "dfd36cf9",
   "metadata": {},
   "source": [
    "Q 3: Sort and reverse a list "
   ]
  },
  {
   "cell_type": "code",
   "execution_count": 3,
   "id": "0f7390a1",
   "metadata": {},
   "outputs": [
    {
     "name": "stdout",
     "output_type": "stream",
     "text": [
      "Sorted list: [1, 2, 5, 8, 9]\n",
      "Reversed list: [9, 8, 5, 2, 1]\n"
     ]
    }
   ],
   "source": [
    "# Program to sort and reverse list \n",
    "numbers = [5, 2, 8, 1, 9] \n",
    "numbers.sort()   # ascending order \n",
    "print(\"Sorted list:\", numbers) \n",
    "numbers.reverse() \n",
    "print(\"Reversed list:\", numbers)"
   ]
  },
  {
   "cell_type": "markdown",
   "id": "14bac76d",
   "metadata": {},
   "source": [
    "# 2. Slicing"
   ]
  },
  {
   "cell_type": "markdown",
   "id": "8449cb6e",
   "metadata": {},
   "source": [
    "Q 1: Print part of a list using slicing"
   ]
  },
  {
   "cell_type": "code",
   "execution_count": 4,
   "id": "e6b738e4",
   "metadata": {},
   "outputs": [
    {
     "name": "stdout",
     "output_type": "stream",
     "text": [
      "First three fruits: ['apple', 'banana', 'cherry']\n",
      "Last two fruits: ['kiwi', 'melon']\n"
     ]
    }
   ],
   "source": [
    "# Program to demonstrate list slicing \n",
    "fruits = [\"apple\", \"banana\", \"cherry\", \"orange\", \"kiwi\", \"melon\"] \n",
    "print(\"First three fruits:\", fruits[:3]) \n",
    "print(\"Last two fruits:\", fruits[-2:])"
   ]
  },
  {
   "cell_type": "markdown",
   "id": "b1c9145c",
   "metadata": {},
   "source": [
    "Q 2: Slice list with step value"
   ]
  },
  {
   "cell_type": "code",
   "execution_count": 5,
   "id": "1ce3fffa",
   "metadata": {},
   "outputs": [
    {
     "name": "stdout",
     "output_type": "stream",
     "text": [
      "Every second number: [1, 3, 5, 7, 9]\n"
     ]
    }
   ],
   "source": [
    "# Program to slice with step \n",
    "numbers = [1, 2, 3, 4, 5, 6, 7, 8, 9] \n",
    "print(\"Every second number:\", numbers[::2])"
   ]
  },
  {
   "cell_type": "markdown",
   "id": "2252ce44",
   "metadata": {},
   "source": [
    "Q 3: Modify part of a list using slicing"
   ]
  },
  {
   "cell_type": "code",
   "execution_count": 6,
   "id": "440b68c5",
   "metadata": {},
   "outputs": [
    {
     "name": "stdout",
     "output_type": "stream",
     "text": [
      "Updated colors list: ['red', 'black', 'white', 'yellow']\n"
     ]
    }
   ],
   "source": [
    "# Program to modify list using slicing \n",
    "colors = [\"red\", \"blue\", \"green\", \"yellow\"] \n",
    "colors[1:3] = [\"black\", \"white\"] \n",
    "print(\"Updated colors list:\", colors) "
   ]
  },
  {
   "cell_type": "markdown",
   "id": "94603f88",
   "metadata": {},
   "source": [
    "# 3. List Comprehensions"
   ]
  },
  {
   "cell_type": "markdown",
   "id": "1aff018a",
   "metadata": {},
   "source": [
    "Q 1: Create a list of squares "
   ]
  },
  {
   "cell_type": "code",
   "execution_count": 7,
   "id": "3e1c5336",
   "metadata": {},
   "outputs": [
    {
     "name": "stdout",
     "output_type": "stream",
     "text": [
      "List of squares: [1, 4, 9, 16, 25]\n"
     ]
    }
   ],
   "source": [
    "# Program to create list of squares using list comprehension \n",
    "squares = [x**2 for x in range(1, 6)] \n",
    "print(\"List of squares:\", squares) "
   ]
  },
  {
   "cell_type": "markdown",
   "id": "c5390222",
   "metadata": {},
   "source": [
    "Q 2: Filter even numbers from a list"
   ]
  },
  {
   "cell_type": "code",
   "execution_count": 8,
   "id": "97f0f6b5",
   "metadata": {},
   "outputs": [
    {
     "name": "stdout",
     "output_type": "stream",
     "text": [
      "Even numbers: [2, 4, 6, 8]\n"
     ]
    }
   ],
   "source": [
    "# Program to get even numbers using list comprehension \n",
    "numbers = [1, 2, 3, 4, 5, 6, 7, 8, 9] \n",
    "even = [x for x in numbers if x % 2 == 0] \n",
    "print(\"Even numbers:\", even) \n"
   ]
  },
  {
   "cell_type": "markdown",
   "id": "88081bdb",
   "metadata": {},
   "source": [
    "Q 3: Convert all strings to uppercase"
   ]
  },
  {
   "cell_type": "code",
   "execution_count": 9,
   "id": "d1feaec4",
   "metadata": {},
   "outputs": [
    {
     "name": "stdout",
     "output_type": "stream",
     "text": [
      "Uppercase fruits: ['APPLE', 'BANANA', 'CHERRY']\n"
     ]
    }
   ],
   "source": [
    "# Program to convert list of strings to uppercase \n",
    "fruits = [\"apple\", \"banana\", \"cherry\"] \n",
    "upper_fruits = [fruit.upper() for fruit in fruits] \n",
    "print(\"Uppercase fruits:\", upper_fruits)"
   ]
  },
  {
   "cell_type": "markdown",
   "id": "559e1e1a",
   "metadata": {},
   "source": [
    "# 4. Tuple Packing & Unpacking"
   ]
  },
  {
   "cell_type": "markdown",
   "id": "ab7b4f16",
   "metadata": {},
   "source": [
    "Q 1: Create and unpack a tuple"
   ]
  },
  {
   "cell_type": "code",
   "execution_count": 10,
   "id": "f40db947",
   "metadata": {},
   "outputs": [
    {
     "name": "stdout",
     "output_type": "stream",
     "text": [
      "Name: Ali\n",
      "Age: 25\n",
      "City: Karachi\n"
     ]
    }
   ],
   "source": [
    "# Program to demonstrate tuple packing and unpacking \n",
    "person = (\"Ali\", 25, \"Karachi\")   # packing \n",
    "name, age, city = person          \n",
    "print(\"Name:\", name) \n",
    "print(\"Age:\", age) \n",
    "print(\"City:\", city) "
   ]
  },
  {
   "cell_type": "markdown",
   "id": "afeab823",
   "metadata": {},
   "source": [
    "Q 2: Unpack partial values using * operator "
   ]
  },
  {
   "cell_type": "code",
   "execution_count": 11,
   "id": "19b83666",
   "metadata": {},
   "outputs": [
    {
     "name": "stdout",
     "output_type": "stream",
     "text": [
      "First: 10\n",
      "Middle: [20, 30, 40]\n",
      "Last: 50\n"
     ]
    }
   ],
   "source": [
    "# Program to unpack tuple with * \n",
    "numbers = (10, 20, 30, 40, 50) \n",
    "first, *middle, last = numbers \n",
    "print(\"First:\", first) \n",
    "print(\"Middle:\", middle) \n",
    "print(\"Last:\", last) "
   ]
  },
  {
   "cell_type": "markdown",
   "id": "5f5bc1d9",
   "metadata": {},
   "source": [
    "Q 3: Swap two variables using tuple unpacking"
   ]
  },
  {
   "cell_type": "code",
   "execution_count": 12,
   "id": "3f410fcc",
   "metadata": {},
   "outputs": [
    {
     "name": "stdout",
     "output_type": "stream",
     "text": [
      "After swapping: a = 10 , b = 5\n"
     ]
    }
   ],
   "source": [
    "# Program to swap values using tuple unpacking \n",
    "a = 5 \n",
    "b = 10 \n",
    "a, b = b, a \n",
    "print(\"After swapping: a =\", a, \", b =\", b)"
   ]
  },
  {
   "cell_type": "markdown",
   "id": "214156d4",
   "metadata": {},
   "source": [
    "# 5. Immutable vs Mutable "
   ]
  },
  {
   "cell_type": "markdown",
   "id": "98931452",
   "metadata": {},
   "source": [
    "Q 1: Show list mutability "
   ]
  },
  {
   "cell_type": "code",
   "execution_count": 13,
   "id": "89690e57",
   "metadata": {},
   "outputs": [
    {
     "name": "stdout",
     "output_type": "stream",
     "text": [
      "Modified list: [1, 100, 3]\n"
     ]
    }
   ],
   "source": [
    "# Program to show list is mutable \n",
    "numbers = [1, 2, 3] \n",
    "numbers[1] = 100 \n",
    "print(\"Modified list:\", numbers)"
   ]
  },
  {
   "cell_type": "markdown",
   "id": "e8a6d3a3",
   "metadata": {},
   "source": [
    "Q 2: Show tuple immutability"
   ]
  },
  {
   "cell_type": "code",
   "execution_count": 14,
   "id": "babc7799",
   "metadata": {},
   "outputs": [
    {
     "name": "stdout",
     "output_type": "stream",
     "text": [
      "Tuples cannot be changed once created!\n"
     ]
    }
   ],
   "source": [
    "# Program to show tuple is immutable \n",
    "fruits = (\"apple\", \"banana\", \"cherry\") \n",
    "# fruits[0] = \"mango\"  # This will cause an error \n",
    "print(\"Tuples cannot be changed once created!\")"
   ]
  },
  {
   "cell_type": "markdown",
   "id": "f053e8ae",
   "metadata": {},
   "source": [
    "Q 3: Compare list and tuple behavior"
   ]
  },
  {
   "cell_type": "code",
   "execution_count": 15,
   "id": "163d93d1",
   "metadata": {},
   "outputs": [
    {
     "name": "stdout",
     "output_type": "stream",
     "text": [
      "Modified list: [10, 200, 30]\n",
      "Tuple remains unchanged: (10, 20, 30)\n"
     ]
    }
   ],
   "source": [
    "# Program comparing list (mutable) and tuple (immutable) \n",
    "list_data = [10, 20, 30] \n",
    "tuple_data = (10, 20, 30) \n",
    "list_data[1] = 200 \n",
    "print(\"Modified list:\", list_data) \n",
    "# tuple_data[1] = 200  #Uncommenting this will raise an error \n",
    "print(\"Tuple remains unchanged:\", tuple_data) "
   ]
  }
 ],
 "metadata": {
  "kernelspec": {
   "display_name": "Python 3",
   "language": "python",
   "name": "python3"
  },
  "language_info": {
   "codemirror_mode": {
    "name": "ipython",
    "version": 3
   },
   "file_extension": ".py",
   "mimetype": "text/x-python",
   "name": "python",
   "nbconvert_exporter": "python",
   "pygments_lexer": "ipython3",
   "version": "3.13.7"
  }
 },
 "nbformat": 4,
 "nbformat_minor": 5
}
