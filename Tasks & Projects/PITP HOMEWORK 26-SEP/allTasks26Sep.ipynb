{
 "cells": [
  {
   "cell_type": "markdown",
   "id": "c5907d0b",
   "metadata": {},
   "source": [
    "# All Tasks Assigned by Sir Saqib Khaskheli on Sep 26"
   ]
  },
  {
   "cell_type": "markdown",
   "id": "fbb4fccb",
   "metadata": {},
   "source": [
    "# 1. Variables"
   ]
  },
  {
   "cell_type": "code",
   "execution_count": 21,
   "id": "359ff677",
   "metadata": {},
   "outputs": [
    {
     "name": "stdout",
     "output_type": "stream",
     "text": [
      "Mirpurkhas, Pakistan\n",
      "Mirpurkhas, Pakistan\n"
     ]
    }
   ],
   "source": [
    "# Store your city and country in variables and print them together. \n",
    "myCity = \"Mirpurkhas\"\n",
    "myCountry = \"Pakistan\"\n",
    "\n",
    "print(myCity + \", \" + myCountry)\n",
    "\n",
    "print(f\"{myCity}, {myCountry}\")\n"
   ]
  },
  {
   "cell_type": "code",
   "execution_count": 22,
   "id": "fca90552",
   "metadata": {},
   "outputs": [
    {
     "name": "stdout",
     "output_type": "stream",
     "text": [
      "Sum:  40\n",
      "Sub:  20\n",
      "Multiply:  300\n",
      "Division:  3.0\n"
     ]
    }
   ],
   "source": [
    "# Store two numbers in variables and Perfrom Operation print their Sum, Multiply , Divide, and Subtraction. \n",
    "a = 30\n",
    "b = 10\n",
    "\n",
    "print(\"Sum: \", a + b)\n",
    "print(\"Sub: \", a-b)\n",
    "print(\"Multiply: \", a*b)\n",
    "print(\"Division: \", a/b)"
   ]
  },
  {
   "cell_type": "code",
   "execution_count": 23,
   "id": "f7f06ec7",
   "metadata": {},
   "outputs": [
    {
     "name": "stdout",
     "output_type": "stream",
     "text": [
      "Student Name is Saeed Ali, Age is 18, Roll No is 254569, Course Name is Python Development.\n"
     ]
    }
   ],
   "source": [
    "# Make variables and get its value from Input Method for Student Information, and ask Student Name, Age, RollNo, CourseName and print them in a sentance. \n",
    "studentName = input(\"Enter Student Name: \")\n",
    "age = int(input(\"Enter Age: \"))\n",
    "rollNo = int(input(\"Enter Roll No: \"))\n",
    "courseName = input(\"Enter Course Name: \")\n",
    "print(f\"Student Name is {studentName}, Age is {age}, Roll No is {rollNo}, Course Name is {courseName}.\")"
   ]
  },
  {
   "cell_type": "markdown",
   "id": "15c911da",
   "metadata": {},
   "source": [
    "# 2. Data Types "
   ]
  },
  {
   "cell_type": "code",
   "execution_count": null,
   "id": "81be8c3c",
   "metadata": {},
   "outputs": [
    {
     "name": "stdout",
     "output_type": "stream",
     "text": [
      "Name: Saeed Ali (Type: <class 'str'>)\n",
      "Age: 18 (Type: <class 'int'>)\n",
      "Height: 5.6 (Type: <class 'float'>)\n",
      "Is Student: True (Type: <class 'bool'>)\n"
     ]
    }
   ],
   "source": [
    "# Write a program to collect user information and display values with their data types.\n",
    "name = input(\"Enter your name: \")\n",
    "age = int(input(\"Enter your age: \"))\n",
    "height = float(input(\"Enter your height in meters: \"))\n",
    "is_student = input(\"Are you a student? (yes/no): \").strip().lower()\n",
    "is_student = True if is_student == 'yes' else False\n",
    "print(f\"Name: {name} (Type: {type(name)})\")\n",
    "print(f\"Age: {age} (Type: {type(age)})\")\n",
    "print(f\"Height: {height} (Type: {type(height)})\")\n",
    "print(f\"Is Student: {is_student} (Type: {type(is_student)})\")\n",
    "\n"
   ]
  },
  {
   "cell_type": "markdown",
   "id": "92ba6330",
   "metadata": {},
   "source": [
    "# 3. Type Conversion\n"
   ]
  },
  {
   "cell_type": "code",
   "execution_count": null,
   "id": "a6cc3221",
   "metadata": {},
   "outputs": [
    {
     "name": "stdout",
     "output_type": "stream",
     "text": [
      "1st Number (string): 4\n",
      "2nd Number (string): 5\n",
      "Before Conversion (string concatenation):\n",
      "Result = 45\n",
      "After Conversion (integer addition):\n",
      "Sum = 9\n"
     ]
    }
   ],
   "source": [
    "# Write a program to take two numbers as strings, then convert them to integers and add\n",
    "\n",
    "# Taking user inputs\n",
    "num1 = input(\"Enter the first number: \")\n",
    "num2 = input(\"Enter the second number: \")\n",
    "\n",
    "# Display inputs\n",
    "print(f\"1st Number (string): {num1}\")\n",
    "print(f\"2nd Number (string): {num2}\")\n",
    "\n",
    "# Showing string concatenation result\n",
    "print(\"Before Conversion (string concatenation):\")\n",
    "print(f\"Result = {num1 + num2}\")\n",
    "\n",
    "# Convert to integers\n",
    "n1 = int(num1)\n",
    "n2 = int(num2)\n",
    "\n",
    "# Showing proper integer addition\n",
    "print(\"After Conversion (integer addition):\")\n",
    "print(f\"Sum = {n1 + n2}\")\n"
   ]
  },
  {
   "cell_type": "markdown",
   "id": "1d062747",
   "metadata": {},
   "source": [
    "# 4. Basic Operators"
   ]
  },
  {
   "cell_type": "code",
   "execution_count": null,
   "id": "8589a45f",
   "metadata": {},
   "outputs": [
    {
     "name": "stdout",
     "output_type": "stream",
     "text": [
      "--- Arithmetic Operations ---\n",
      "Addition: 0.0 + 0.0 = 0.0\n",
      "Subtraction: 0.0 - 0.0 = 0.0\n",
      "Multiplication: 0.0 * 0.0 = 0.0\n",
      "Division, Floor Division, and Modulus cannot be performed (division by zero).\n"
     ]
    }
   ],
   "source": [
    "# Program to perform basic arithmetic operations between two numbers\n",
    "\n",
    "# Taking user inputs\n",
    "num1 = float(input(\"Enter the first number: \"))\n",
    "num2 = float(input(\"Enter the second number: \"))\n",
    "\n",
    "print(\"--- Arithmetic Operations ---\")\n",
    "print(f\"Addition: {num1} + {num2} = {num1 + num2}\")\n",
    "print(f\"Subtraction: {num1} - {num2} = {num1 - num2}\")\n",
    "print(f\"Multiplication: {num1} * {num2} = {num1 * num2}\")\n",
    "\n",
    "# Handling division by zero\n",
    "if num2 != 0:\n",
    "    print(f\"Division: {num1} / {num2} = {num1 / num2}\")\n",
    "    print(f\"Floor Division: {num1} // {num2} = {num1 // num2}\")\n",
    "    print(f\"Modulus: {num1} % {num2} = {num1 % num2}\")\n",
    "else:\n",
    "    print(\"Division, Floor Division, and Modulus cannot be performed (division by zero).\")\n"
   ]
  },
  {
   "cell_type": "markdown",
   "id": "f7aa173f",
   "metadata": {},
   "source": [
    "# 5. Calculate the area of rectangle"
   ]
  },
  {
   "cell_type": "code",
   "execution_count": null,
   "id": "730eb31b",
   "metadata": {},
   "outputs": [
    {
     "name": "stdout",
     "output_type": "stream",
     "text": [
      "Area: 31.90\n",
      "Perimeter: 22.60\n"
     ]
    }
   ],
   "source": [
    "# Calculate Area and Perimeter of Rectangle\n",
    "length = float(input(\"Enter the Length of Reactangle: \"))\n",
    "width = float(input(\"Enter the width of Reactangle: \"))\n",
    "\n",
    "area = length * width\n",
    "perimeter = 2 *(length + width)\n",
    "\n",
    "print(f\"Area: {area:.2f}\")\n",
    "print(f\"Perimeter: {perimeter:.2f}\")"
   ]
  },
  {
   "cell_type": "markdown",
   "id": "43f4537a",
   "metadata": {},
   "source": [
    "# 6. Input/Output"
   ]
  },
  {
   "cell_type": "code",
   "execution_count": null,
   "id": "214b948f",
   "metadata": {},
   "outputs": [
    {
     "name": "stdout",
     "output_type": "stream",
     "text": [
      "\n",
      "--- User Information ---\n",
      "Hello, Saeed! 🎉\n",
      "You are 18 years old and your favorite color is Blue.\n"
     ]
    }
   ],
   "source": [
    "# Write a Program to collect basic user information and display a personalized message\n",
    "\n",
    "# Taking user inputs\n",
    "userName = input(\"Enter your name: \").strip().title()  # Cleans spaces and capitalizes name\n",
    "age = int(input(\"Enter your age: \"))\n",
    "favColor = input(\"Enter your favorite color: \").strip().capitalize()\n",
    "\n",
    "# Displaying a personalized message\n",
    "print(\"\\n--- User Information ---\")\n",
    "print(f\"Hello, {userName}! 🎉\")\n",
    "print(f\"You are {age} years old and your favorite color is {favColor}.\")\n"
   ]
  },
  {
   "cell_type": "markdown",
   "id": "5e908a6f",
   "metadata": {},
   "source": [
    "# 7. Simple Calculator"
   ]
  },
  {
   "cell_type": "code",
   "execution_count": 24,
   "id": "437ca30c",
   "metadata": {},
   "outputs": [
    {
     "name": "stdout",
     "output_type": "stream",
     "text": [
      "The Result is:  9\n"
     ]
    }
   ],
   "source": [
    "# Simple Calculator in Python\n",
    "\n",
    "num1 = int(input(\"Enter First Number: \"))\n",
    "num2 = int(input(\"Enter Second Number: \"))\n",
    "operator = input(\"Enter Operator: \")\n",
    "result = 0\n",
    "\n",
    "if operator == \"+\":\n",
    "    result = num1 + num2\n",
    "    print(\"The Result is: \", result)\n",
    "elif operator == \"-\":\n",
    "    result = num1 - num2\n",
    "    print(\"The Result is: \", result)\n",
    "elif operator == \"*\":\n",
    "    result = num1 * num2\n",
    "    print(\"The Result is: \", result);\n",
    "elif operator == \"/\":\n",
    "    result = num1 / num2\n",
    "    print(\"The Result is: \", result)\n",
    "else:\n",
    "    print(\"Invalid Operator!\")"
   ]
  },
  {
   "cell_type": "markdown",
   "id": "e1a4aea7",
   "metadata": {},
   "source": [
    "# 8. Loops for in, while"
   ]
  },
  {
   "cell_type": "markdown",
   "id": "425fda8e",
   "metadata": {},
   "source": [
    "1. for in loop"
   ]
  },
  {
   "cell_type": "code",
   "execution_count": null,
   "id": "097428a6",
   "metadata": {},
   "outputs": [
    {
     "name": "stdout",
     "output_type": "stream",
     "text": [
      "\n",
      "--- List of Users ---\n",
      "👤 Saeed\n",
      "👤 Ali\n",
      "👤 Jerry\n",
      "👤 Khan\n"
     ]
    }
   ],
   "source": [
    "# 1. Print each user from the list\n",
    "\n",
    "users = [\"Saeed\", \"Ali\", \"Jerry\", \"Khan\"]\n",
    "\n",
    "print(\"--- List of Users ---\")\n",
    "for user in users:\n",
    "    print(f\"👤 {user}\")"
   ]
  },
  {
   "cell_type": "code",
   "execution_count": 30,
   "id": "7067e650",
   "metadata": {},
   "outputs": [
    {
     "name": "stdout",
     "output_type": "stream",
     "text": [
      "--- Numbers from 1 to 10 ---\n",
      "1 2 3 4 5 6 7 8 9 10 "
     ]
    }
   ],
   "source": [
    "# 2. Print numbers from 1 to 10\n",
    "print(\"--- Numbers from 1 to 10 ---\")\n",
    "for i in range(1, 11):\n",
    "    print(i, end=\" \")  # Prints numbers on the same line\n"
   ]
  },
  {
   "cell_type": "markdown",
   "id": "4542aef8",
   "metadata": {},
   "source": [
    "2. while loop"
   ]
  },
  {
   "cell_type": "code",
   "execution_count": null,
   "id": "2f93655f",
   "metadata": {},
   "outputs": [
    {
     "name": "stdout",
     "output_type": "stream",
     "text": [
      "--- Enter numbers (0 to exit) ---\n",
      "You entered: 4\n",
      "You entered: 2\n",
      "Program ended. Goodbye!\n"
     ]
    }
   ],
   "source": [
    "# 1. Continuously ask for a number until 0 is entered\n",
    "\n",
    "print(\"--- Enter numbers (0 to exit) ---\")\n",
    "while True:\n",
    "    num = int(input(\"Enter a number: \"))\n",
    "    if num == 0:\n",
    "        print(\"Program ended. Goodbye!\")\n",
    "        break\n",
    "    print(f\"You entered: {num}\")"
   ]
  },
  {
   "cell_type": "code",
   "execution_count": 32,
   "id": "53f3010f",
   "metadata": {},
   "outputs": [
    {
     "name": "stdout",
     "output_type": "stream",
     "text": [
      "--- Developer Name Verification ---\n",
      "❌ You are not Saeed! Try again.\n",
      "Welcome, Saeed! 🎉\n"
     ]
    }
   ],
   "source": [
    "# 2. Ask for developer name until \"Saeed\" is entered\n",
    "\n",
    "print(\"--- Developer Name Verification ---\")\n",
    "while True:\n",
    "    dev_name = input(\"Enter your Developer Name: \").strip().title()\n",
    "    \n",
    "    if dev_name == \"Saeed\":\n",
    "        print(\"Welcome, Saeed! 🎉\")\n",
    "        break\n",
    "    else:\n",
    "        print(\"❌ You are not Saeed! Try again.\")"
   ]
  },
  {
   "cell_type": "markdown",
   "id": "37e675cc",
   "metadata": {},
   "source": [
    "# 9. Simple Introduction Form"
   ]
  },
  {
   "cell_type": "code",
   "execution_count": 33,
   "id": "9358eb12",
   "metadata": {},
   "outputs": [
    {
     "name": "stdout",
     "output_type": "stream",
     "text": [
      "\n",
      "============================\n",
      "       INTRODUCTION FORM     \n",
      "============================\n",
      "👤 Name       : Saeed Ali\n",
      "🏫 Class      : 12\n",
      "🎓 University : Mirpurkhas\n",
      "🎯 Hobby      : Code everyday\n",
      "============================\n"
     ]
    }
   ],
   "source": [
    "# Small \"Introduction Form\" Program\n",
    "\n",
    "# Taking user inputs\n",
    "name = input(\"Enter your name: \").strip().title()\n",
    "class_name = input(\"Enter your class: \").strip().upper()\n",
    "university = input(\"Enter your university: \").strip().title()\n",
    "hobby = input(\"Enter your hobby: \").strip().capitalize()\n",
    "\n",
    "# Displaying the formatted introduction\n",
    "print(\"\\n============================\")\n",
    "print(\"       INTRODUCTION FORM     \")\n",
    "print(\"============================\")\n",
    "print(f\"👤 Name       : {name}\")\n",
    "print(f\"🏫 Class      : {class_name}\")\n",
    "print(f\"🎓 University : {university}\")\n",
    "print(f\"🎯 Hobby      : {hobby}\")\n",
    "print(\"============================\")\n"
   ]
  },
  {
   "cell_type": "markdown",
   "id": "15594de9",
   "metadata": {},
   "source": [
    "# THE END OF SEPTEMBER 26-2K25"
   ]
  }
 ],
 "metadata": {
  "kernelspec": {
   "display_name": "Python 3",
   "language": "python",
   "name": "python3"
  },
  "language_info": {
   "codemirror_mode": {
    "name": "ipython",
    "version": 3
   },
   "file_extension": ".py",
   "mimetype": "text/x-python",
   "name": "python",
   "nbconvert_exporter": "python",
   "pygments_lexer": "ipython3",
   "version": "3.13.7"
  }
 },
 "nbformat": 4,
 "nbformat_minor": 5
}
