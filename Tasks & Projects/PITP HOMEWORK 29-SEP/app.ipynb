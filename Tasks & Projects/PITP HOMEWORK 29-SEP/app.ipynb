{
 "cells": [
  {
   "cell_type": "markdown",
   "id": "3cde5dc9",
   "metadata": {},
   "source": [
    "# The University Of Mirpurkhas \n",
    "PITP Class Work (29-09-2025) "
   ]
  },
  {
   "cell_type": "markdown",
   "id": "45c8f199",
   "metadata": {},
   "source": [
    "# 1. Defining Functions "
   ]
  },
  {
   "cell_type": "markdown",
   "id": "bff64a19",
   "metadata": {},
   "source": [
    "Q 1: Define a function that prints \"Hello, Python!\""
   ]
  },
  {
   "cell_type": "code",
   "execution_count": 2,
   "id": "9a837937",
   "metadata": {},
   "outputs": [
    {
     "name": "stdout",
     "output_type": "stream",
     "text": [
      "Hello, Python!\n"
     ]
    }
   ],
   "source": [
    "# Program to define a simple function \n",
    "def greet(): \n",
    " print(\"Hello, Python!\") \n",
    "# Function call \n",
    "greet() "
   ]
  },
  {
   "cell_type": "markdown",
   "id": "ca4440de",
   "metadata": {},
   "source": [
    "Q 2: Define a function that takes your name and prints a welcome message."
   ]
  },
  {
   "cell_type": "code",
   "execution_count": 1,
   "id": "68d70578",
   "metadata": {},
   "outputs": [
    {
     "name": "stdout",
     "output_type": "stream",
     "text": [
      "Welcome saeed to Python class!\n"
     ]
    }
   ],
   "source": [
    "# Program to define a function that welcomes user \n",
    "def welcome(): \n",
    " name = input(\"Enter your name: \") \n",
    " print(\"Welcome\", name, \"to Python class!\") \n",
    "welcome() "
   ]
  },
  {
   "cell_type": "markdown",
   "id": "e592483c",
   "metadata": {},
   "source": [
    "# 2. Parameters"
   ]
  },
  {
   "cell_type": "markdown",
   "id": "5f354f61",
   "metadata": {},
   "source": [
    "Q 1: Define a function that takes a name as parameter and prints a greeting."
   ]
  },
  {
   "cell_type": "code",
   "execution_count": null,
   "id": "1cc9655a",
   "metadata": {},
   "outputs": [
    {
     "name": "stdout",
     "output_type": "stream",
     "text": [
      "Hello, Jerry how are you?\n",
      "Hello, Saeed how are you?\n"
     ]
    }
   ],
   "source": [
    "# Program with parameter \n",
    "def greet(name): \n",
    "    print(\"Hello,\", name, \"how are you?\") \n",
    "greet(\"Jerry\") \n",
    "greet(\"Saeed\") "
   ]
  },
  {
   "cell_type": "markdown",
   "id": "05a2688f",
   "metadata": {},
   "source": [
    "2: Define a function that takes two numbers as parameters and prints their sum."
   ]
  },
  {
   "cell_type": "code",
   "execution_count": 1,
   "id": "8d7af71e",
   "metadata": {},
   "outputs": [
    {
     "name": "stdout",
     "output_type": "stream",
     "text": [
      "Sum is: 15\n",
      "Sum is: 50\n"
     ]
    }
   ],
   "source": [
    "# Program with two parameters \n",
    "def add_numbers(a, b): \n",
    "    print(\"Sum is:\", a + b) \n",
    "add_numbers(5, 10) \n",
    "add_numbers(20, 30) "
   ]
  },
  {
   "cell_type": "markdown",
   "id": "f117126d",
   "metadata": {},
   "source": [
    "# 3. Return Values"
   ]
  },
  {
   "cell_type": "markdown",
   "id": "30e57450",
   "metadata": {},
   "source": [
    "Q 1: Define a function that takes two numbers and returns their product."
   ]
  },
  {
   "cell_type": "code",
   "execution_count": 2,
   "id": "9e9a59d6",
   "metadata": {},
   "outputs": [
    {
     "name": "stdout",
     "output_type": "stream",
     "text": [
      "Product is: 20\n"
     ]
    }
   ],
   "source": [
    "# Program using return value \n",
    "def multiply(a, b): \n",
    "    return a * b \n",
    "result = multiply(4, 5) \n",
    "print(\"Product is:\", result) "
   ]
  },
  {
   "cell_type": "markdown",
   "id": "4c6e8c0a",
   "metadata": {},
   "source": [
    "Q 2: Define a function that takes a number and returns whether it is even or odd."
   ]
  },
  {
   "cell_type": "code",
   "execution_count": 3,
   "id": "e4a0d880",
   "metadata": {},
   "outputs": [
    {
     "name": "stdout",
     "output_type": "stream",
     "text": [
      "Odd\n",
      "Even\n"
     ]
    }
   ],
   "source": [
    "# Program to check even or odd using return \n",
    "def check_even_odd(num): \n",
    " if num % 2 == 0: \n",
    "  return \"Even\" \n",
    " else: \n",
    "  return \"Odd\" \n",
    "print(check_even_odd(7)) \n",
    "print(check_even_odd(12))"
   ]
  },
  {
   "cell_type": "markdown",
   "id": "a95a54f0",
   "metadata": {},
   "source": [
    "# 4. Variable Scope (Local vs Global)"
   ]
  },
  {
   "cell_type": "markdown",
   "id": "33d82368",
   "metadata": {},
   "source": [
    "1: Demonstrate local variable inside a function."
   ]
  },
  {
   "cell_type": "code",
   "execution_count": 4,
   "id": "006d3a44",
   "metadata": {},
   "outputs": [
    {
     "name": "stdout",
     "output_type": "stream",
     "text": [
      "I am local\n"
     ]
    }
   ],
   "source": [
    "# Program showing local variable \n",
    "def show_local(): \n",
    "    message = \"I am local\"  # local variable \n",
    "    print(message) \n",
    "show_local() \n",
    "# print(message)  # This will give error because 'message' is local"
   ]
  },
  {
   "cell_type": "markdown",
   "id": "ee29479f",
   "metadata": {},
   "source": [
    "Q 2: Demonstrate global variable usage."
   ]
  },
  {
   "cell_type": "code",
   "execution_count": 5,
   "id": "c4cea847",
   "metadata": {},
   "outputs": [
    {
     "name": "stdout",
     "output_type": "stream",
     "text": [
      "Inside function: 10\n",
      "Outside function: 10\n"
     ]
    }
   ],
   "source": [
    "# Program showing global variable \n",
    "count = 10  # global variable \n",
    "def show_global(): \n",
    "    print(\"Inside function:\", count) \n",
    "show_global() \n",
    "print(\"Outside function:\", count)"
   ]
  },
  {
   "cell_type": "markdown",
   "id": "bf42a98e",
   "metadata": {},
   "source": [
    "Q 3: Modify global variable inside a function using global keyword."
   ]
  },
  {
   "cell_type": "code",
   "execution_count": 6,
   "id": "60f85227",
   "metadata": {},
   "outputs": [
    {
     "name": "stdout",
     "output_type": "stream",
     "text": [
      "Inside function: 6\n",
      "Outside function: 6\n"
     ]
    }
   ],
   "source": [
    "# Program to modify global variable \n",
    "count = 5 \n",
    "def update_count(): \n",
    "    global count \n",
    "    count = count + 1 \n",
    "    print(\"Inside function:\", count) \n",
    "update_count() \n",
    "print(\"Outside function:\", count)"
   ]
  }
 ],
 "metadata": {
  "kernelspec": {
   "display_name": "Python 3",
   "language": "python",
   "name": "python3"
  },
  "language_info": {
   "codemirror_mode": {
    "name": "ipython",
    "version": 3
   },
   "file_extension": ".py",
   "mimetype": "text/x-python",
   "name": "python",
   "nbconvert_exporter": "python",
   "pygments_lexer": "ipython3",
   "version": "3.13.7"
  }
 },
 "nbformat": 4,
 "nbformat_minor": 5
}
