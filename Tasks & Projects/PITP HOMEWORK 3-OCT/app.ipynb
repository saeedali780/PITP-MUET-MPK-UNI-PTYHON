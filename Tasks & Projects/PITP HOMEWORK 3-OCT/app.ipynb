{
 "cells": [
  {
   "cell_type": "markdown",
   "id": "b8f7e759",
   "metadata": {},
   "source": [
    "# The University Of Mirpurkhas "
   ]
  },
  {
   "cell_type": "markdown",
   "id": "bdb10b13",
   "metadata": {},
   "source": [
    "PITP Class Work (03-10-2025)"
   ]
  },
  {
   "cell_type": "markdown",
   "id": "8322994f",
   "metadata": {},
   "source": [
    "# 1. Try Except Blocks"
   ]
  },
  {
   "cell_type": "markdown",
   "id": "d1d0735a",
   "metadata": {},
   "source": [
    "Q 1: Divide two numbers with exception handling"
   ]
  },
  {
   "cell_type": "code",
   "execution_count": 1,
   "id": "24583b1f",
   "metadata": {},
   "outputs": [
    {
     "name": "stdout",
     "output_type": "stream",
     "text": [
      "Result is: 0.8\n"
     ]
    }
   ],
   "source": [
    "# Program to demonstrate try-except \n",
    "# This program prevents crash when dividing by zero \n",
    "try: \n",
    "    a = int(input(\"Enter numerator: \")) \n",
    "    b = int(input(\"Enter denominator: \")) \n",
    "    result = a / b \n",
    "    print(\"Result is:\", result) \n",
    "except: \n",
    "    print(\"Error occurred! Cannot divide by zero.\")"
   ]
  },
  {
   "cell_type": "markdown",
   "id": "c987f6dd",
   "metadata": {},
   "source": [
    "Q 2: Handle invalid input"
   ]
  },
  {
   "cell_type": "code",
   "execution_count": 3,
   "id": "930b2ddd",
   "metadata": {},
   "outputs": [
    {
     "name": "stdout",
     "output_type": "stream",
     "text": [
      "Invalid input! Please enter a number only.\n"
     ]
    }
   ],
   "source": [
    "# Program to handle invalid input \n",
    "try: \n",
    "    num = int(input(\"Enter a number: \")) \n",
    "    print(\"You entered:\", num) \n",
    "except: \n",
    "    print(\"Invalid input! Please enter a number only.\")"
   ]
  },
  {
   "cell_type": "markdown",
   "id": "f01b71ce",
   "metadata": {},
   "source": [
    "Q 3: Multiple inputs with exception handling"
   ]
  },
  {
   "cell_type": "code",
   "execution_count": 4,
   "id": "f77686b5",
   "metadata": {},
   "outputs": [
    {
     "name": "stdout",
     "output_type": "stream",
     "text": [
      "Sum is: 7\n"
     ]
    }
   ],
   "source": [
    "# Program to add two numbers safely \n",
    "try: \n",
    "    y = int(input(\"Enter second number: \")) \n",
    "    x = int(input(\"Enter first number: \")) \n",
    "    print(\"Sum is:\", x + y) \n",
    "except: \n",
    "    print(\"Error: Please enter only numbers!\")"
   ]
  },
  {
   "cell_type": "markdown",
   "id": "a5a7ce2a",
   "metadata": {},
   "source": [
    "# 2. Handling Specific Exceptions"
   ]
  },
  {
   "cell_type": "markdown",
   "id": "8cd90def",
   "metadata": {},
   "source": [
    "Q 1: Handle ZeroDivisionError and ValueError "
   ]
  },
  {
   "cell_type": "code",
   "execution_count": 5,
   "id": "c28e8f33",
   "metadata": {},
   "outputs": [
    {
     "name": "stdout",
     "output_type": "stream",
     "text": [
      "Result: 0.75\n"
     ]
    }
   ],
   "source": [
    "# Program to handle specific exceptions \n",
    "try: \n",
    "    a = int(input(\"Enter numerator: \")) \n",
    "    b = int(input(\"Enter denominator: \")) \n",
    "    result = a / b \n",
    "    print(\"Result:\", result) \n",
    "except ZeroDivisionError: \n",
    "    print(\"Error: You cannot divide by zero!\") \n",
    "except ValueError: \n",
    "    print(\"Error: Please enter valid integers only.\")"
   ]
  },
  {
   "cell_type": "markdown",
   "id": "76393f0d",
   "metadata": {},
   "source": [
    "Q 2: Handle FileNotFoundError "
   ]
  },
  {
   "cell_type": "code",
   "execution_count": 6,
   "id": "2aaa088f",
   "metadata": {},
   "outputs": [
    {
     "name": "stdout",
     "output_type": "stream",
     "text": [
      "Error: File does not exist.\n"
     ]
    }
   ],
   "source": [
    "# Program to handle file not found error \n",
    "try: \n",
    "    f = open(\"data.txt\", \"r\") \n",
    "    print(f.read()) \n",
    "except FileNotFoundError: \n",
    "    print(\"Error: File does not exist.\")"
   ]
  },
  {
   "cell_type": "markdown",
   "id": "40bc4128",
   "metadata": {},
   "source": [
    "Q 3: Handle IndexError in a list"
   ]
  },
  {
   "cell_type": "code",
   "execution_count": 7,
   "id": "2e822b79",
   "metadata": {},
   "outputs": [
    {
     "name": "stdout",
     "output_type": "stream",
     "text": [
      "Error: Index out of range!\n"
     ]
    }
   ],
   "source": [
    "# Program to handle IndexError \n",
    "numbers = [10, 20, 30] \n",
    "try: \n",
    "    print(numbers[5])  # invalid index \n",
    "except IndexError: \n",
    "    print(\"Error: Index out of range!\")"
   ]
  },
  {
   "cell_type": "markdown",
   "id": "fe8bb10e",
   "metadata": {},
   "source": [
    "# 3. Raising Exceptions"
   ]
  },
  {
   "cell_type": "markdown",
   "id": "e59553b4",
   "metadata": {},
   "source": [
    "Q 1: Raise exception for age check"
   ]
  },
  {
   "cell_type": "code",
   "execution_count": 8,
   "id": "352de9d9",
   "metadata": {},
   "outputs": [
    {
     "name": "stdout",
     "output_type": "stream",
     "text": [
      "You are eligible to vote.\n"
     ]
    }
   ],
   "source": [
    "# Program to raise exception manually \n",
    "def check_age(age): \n",
    "    if age < 18: \n",
    "        raise ValueError(\"Age must be 18 or above to vote.\") \n",
    "    else: \n",
    "        print(\"You are eligible to vote.\") \n",
    "try: \n",
    "    age = int(input(\"Enter your age: \")) \n",
    "    check_age(age) \n",
    "except ValueError as e: \n",
    "    print(\"Exception:\", e)"
   ]
  },
  {
   "cell_type": "markdown",
   "id": "91f7353a",
   "metadata": {},
   "source": [
    "Q 2: Raise exception if marks are invalid"
   ]
  },
  {
   "cell_type": "code",
   "execution_count": 9,
   "id": "43ab6a01",
   "metadata": {},
   "outputs": [
    {
     "name": "stdout",
     "output_type": "stream",
     "text": [
      "Exception: Marks must be between 0 and 100\n"
     ]
    }
   ],
   "source": [
    "# Program to raise exception for invalid marks \n",
    "def check_marks(marks): \n",
    "    if marks < 0 or marks > 100: \n",
    "        raise ValueError(\"Marks must be between 0 and 100\") \n",
    "    else: \n",
    "         print(\"Valid marks:\", marks) \n",
    "try: \n",
    "    score = int(input(\"Enter marks: \")) \n",
    "    check_marks(score) \n",
    "except ValueError as e: \n",
    "    print(\"Exception:\", e)"
   ]
  },
  {
   "cell_type": "markdown",
   "id": "ad56df77",
   "metadata": {},
   "source": [
    "Q 3: Raise exception in withdraw function"
   ]
  },
  {
   "cell_type": "code",
   "execution_count": 10,
   "id": "8ae7d075",
   "metadata": {},
   "outputs": [
    {
     "name": "stdout",
     "output_type": "stream",
     "text": [
      "Withdrawal successful. Remaining balance: 4966\n"
     ]
    }
   ],
   "source": [
    "# Program to raise exception in banking example \n",
    "balance = 5000 \n",
    "def withdraw(amount): \n",
    "    if amount > balance: \n",
    "        raise Exception(\"Insufficient balance!\") \n",
    "    else: \n",
    "        print(\"Withdrawal successful. Remaining balance:\", balance - amount) \n",
    "try: \n",
    "    amt = int(input(\"Enter withdrawal amount: \")) \n",
    "    withdraw(amt) \n",
    "except Exception as e: \n",
    "    print(\"Exception:\", e)"
   ]
  },
  {
   "cell_type": "markdown",
   "id": "cf5a180c",
   "metadata": {},
   "source": [
    "# 4. Finally Clause \n"
   ]
  },
  {
   "cell_type": "markdown",
   "id": "c7041a63",
   "metadata": {},
   "source": [
    "Q 1: Demonstrate finally with division"
   ]
  },
  {
   "cell_type": "code",
   "execution_count": 11,
   "id": "d81a4cb0",
   "metadata": {},
   "outputs": [
    {
     "name": "stdout",
     "output_type": "stream",
     "text": [
      "Result: 0.0\n",
      "Finally block executed.\n"
     ]
    }
   ],
   "source": [
    "# Program to show finally block \n",
    "try: \n",
    "    a = int(input(\"Enter number 1: \")) \n",
    "    b = int(input(\"Enter number 2: \")) \n",
    "    result = a / b \n",
    "    print(\"Result:\", result) \n",
    "except ZeroDivisionError: \n",
    "    print(\"Error: Division by zero not allowed.\") \n",
    "finally: \n",
    "    print(\"Finally block executed.\") "
   ]
  },
  {
   "cell_type": "markdown",
   "id": "e98c1c32",
   "metadata": {},
   "source": [
    "Q 2: File handling with finally"
   ]
  },
  {
   "cell_type": "code",
   "execution_count": 1,
   "id": "e0087202",
   "metadata": {},
   "outputs": [
    {
     "name": "stdout",
     "output_type": "stream",
     "text": [
      "File not found!\n",
      "Closing file operation (if opened).\n"
     ]
    }
   ],
   "source": [
    "# Program to show finally with file handling \n",
    "try: \n",
    "    f = open(\"data.txt\", \"r\") \n",
    "    print(f.read()) \n",
    "except FileNotFoundError: \n",
    "    print(\"File not found!\") \n",
    "finally: \n",
    "    print(\"Closing file operation (if opened).\")"
   ]
  },
  {
   "cell_type": "markdown",
   "id": "3bd27621",
   "metadata": {},
   "source": [
    "Q 3: Always print program end "
   ]
  },
  {
   "cell_type": "code",
   "execution_count": 2,
   "id": "e5bae9f1",
   "metadata": {},
   "outputs": [
    {
     "name": "stdout",
     "output_type": "stream",
     "text": [
      "Square is: 16\n",
      "End of program.\n"
     ]
    }
   ],
   "source": [
    "# Program to always print end message \n",
    "try: \n",
    "    num = int(input(\"Enter a number: \")) \n",
    "    print(\"Square is:\", num * num) \n",
    "except ValueError: \n",
    "    print(\"Invalid input! Enter a number.\") \n",
    "finally: \n",
    "    print(\"End of program.\")"
   ]
  }
 ],
 "metadata": {
  "kernelspec": {
   "display_name": "Python 3",
   "language": "python",
   "name": "python3"
  },
  "language_info": {
   "codemirror_mode": {
    "name": "ipython",
    "version": 3
   },
   "file_extension": ".py",
   "mimetype": "text/x-python",
   "name": "python",
   "nbconvert_exporter": "python",
   "pygments_lexer": "ipython3",
   "version": "3.13.7"
  }
 },
 "nbformat": 4,
 "nbformat_minor": 5
}
